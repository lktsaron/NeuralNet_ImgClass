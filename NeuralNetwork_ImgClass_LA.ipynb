{
 "cells": [
  {
   "cell_type": "markdown",
   "metadata": {},
   "source": [
    "# Multilayer Perceptron Neural Network képosztályozásra\n",
    "#### Lakatos Áron"
   ]
  },
  {
   "cell_type": "markdown",
   "metadata": {},
   "source": [
    "## Szükséges library-k importálása"
   ]
  },
  {
   "cell_type": "code",
   "execution_count": 1,
   "metadata": {},
   "outputs": [
    {
     "name": "stderr",
     "output_type": "stream",
     "text": [
      "Using TensorFlow backend.\n"
     ]
    }
   ],
   "source": [
    "# Mivel rengeteg random szám generálódik a tensorflow és keras végrehajtások során, így beállítottam\n",
    "# ezeket egységesre, hogy mindenkinek ugyanaz az eredmény jöjjön ki a végén majd az előadáson.\n",
    "\n",
    "import os\n",
    "import numpy as np\n",
    "from numpy.random import seed\n",
    "seed(777)\n",
    "import tensorflow as tf\n",
    "tf.random.set_seed(444)\n",
    "\n",
    "\n",
    "import keras\n",
    "from tensorflow.keras.models import Sequential\n",
    "from tensorflow.keras.layers import Dense, Activation, Dropout\n",
    "\n",
    "from keras.callbacks import TensorBoard\n",
    "\n",
    "from time import strftime\n",
    "import datetime\n",
    "\n",
    "%load_ext tensorboard"
   ]
  },
  {
   "cell_type": "markdown",
   "metadata": {},
   "source": [
    "## Adatok beszerzése\n",
    "#### Bemásoltam a hivatalos információkat a CIFAR10 dataset-ről: The CIFAR-10 dataset consists of 60000 32x32 colour images in 10 classes, with 6000 images per class. There are 50000 training images and 10000 test images.\n",
    "#### The dataset is divided into five training batches and one test batch, each with 10000 images. The test batch contains exactly 1000 randomly-selected images from each class. The training batches contain the remaining images in random order, but some training batches may contain more images from one class than another. Between them, the training batches contain exactly 5000 images from each class. "
   ]
  },
  {
   "cell_type": "code",
   "execution_count": 2,
   "metadata": {},
   "outputs": [],
   "source": [
    "from keras.datasets import cifar10"
   ]
  },
  {
   "cell_type": "code",
   "execution_count": 3,
   "metadata": {},
   "outputs": [],
   "source": [
    "(x_train_all, y_train_all),(x_test, y_test) = cifar10.load_data()"
   ]
  },
  {
   "cell_type": "code",
   "execution_count": 4,
   "metadata": {},
   "outputs": [
    {
     "data": {
      "text/plain": [
       "numpy.ndarray"
      ]
     },
     "execution_count": 4,
     "metadata": {},
     "output_type": "execute_result"
    }
   ],
   "source": [
    "# numpy array-t kapunk meg, tehát már konvertálva vannak a képek array típusra\n",
    "type(x_train_all)"
   ]
  },
  {
   "cell_type": "markdown",
   "metadata": {},
   "source": [
    "# Adatok vizualizálása, megismerése"
   ]
  },
  {
   "cell_type": "code",
   "execution_count": 5,
   "metadata": {},
   "outputs": [],
   "source": [
    "# Hogy meg tudjunk jeleníteni képeket a Jupyterben, kellenek a következő importok:\n",
    "\n",
    "# Kétféle módon fogjuk megjeleníteni őket,\n",
    "# Először a display metódussal, majd matplotlibbel\n",
    "\n",
    "from IPython.display import display\n",
    "from keras.preprocessing.image import array_to_img\n",
    "\n",
    "import matplotlib.pyplot as plt\n",
    "\n",
    "%matplotlib inline"
   ]
  },
  {
   "cell_type": "code",
   "execution_count": 6,
   "metadata": {},
   "outputs": [
    {
     "data": {
      "text/plain": [
       "array([[[ 59,  62,  63],\n",
       "        [ 43,  46,  45],\n",
       "        [ 50,  48,  43],\n",
       "        ...,\n",
       "        [158, 132, 108],\n",
       "        [152, 125, 102],\n",
       "        [148, 124, 103]],\n",
       "\n",
       "       [[ 16,  20,  20],\n",
       "        [  0,   0,   0],\n",
       "        [ 18,   8,   0],\n",
       "        ...,\n",
       "        [123,  88,  55],\n",
       "        [119,  83,  50],\n",
       "        [122,  87,  57]],\n",
       "\n",
       "       [[ 25,  24,  21],\n",
       "        [ 16,   7,   0],\n",
       "        [ 49,  27,   8],\n",
       "        ...,\n",
       "        [118,  84,  50],\n",
       "        [120,  84,  50],\n",
       "        [109,  73,  42]],\n",
       "\n",
       "       ...,\n",
       "\n",
       "       [[208, 170,  96],\n",
       "        [201, 153,  34],\n",
       "        [198, 161,  26],\n",
       "        ...,\n",
       "        [160, 133,  70],\n",
       "        [ 56,  31,   7],\n",
       "        [ 53,  34,  20]],\n",
       "\n",
       "       [[180, 139,  96],\n",
       "        [173, 123,  42],\n",
       "        [186, 144,  30],\n",
       "        ...,\n",
       "        [184, 148,  94],\n",
       "        [ 97,  62,  34],\n",
       "        [ 83,  53,  34]],\n",
       "\n",
       "       [[177, 144, 116],\n",
       "        [168, 129,  94],\n",
       "        [179, 142,  87],\n",
       "        ...,\n",
       "        [216, 184, 140],\n",
       "        [151, 118,  84],\n",
       "        [123,  92,  72]]], dtype=uint8)"
      ]
     },
     "execution_count": 6,
     "metadata": {},
     "output_type": "execute_result"
    }
   ],
   "source": [
    "# Most így néz ki az 1. kép a datasetben arrayként:\n",
    "# Minden pixelt az RGB miatt 3 szám reprezentál\n",
    "\n",
    "x_train_all[0]"
   ]
  },
  {
   "cell_type": "code",
   "execution_count": 7,
   "metadata": {},
   "outputs": [
    {
     "data": {
      "image/png": "[encoded data removed]",
      "text/plain": [
       "<PIL.Image.Image image mode=RGB size=32x32 at 0x20A52C9BA88>"
      ]
     },
     "metadata": {},
     "output_type": "display_data"
    }
   ],
   "source": [
    "# Kiválasztunk egy tetszőleges képet az adathalmazból (itt az 5 indexű képet), majd megjelenítjük azt\n",
    "\n",
    "pic = array_to_img(x_train_all[5])\n",
    "display(pic)"
   ]
  },
  {
   "cell_type": "code",
   "execution_count": 8,
   "metadata": {},
   "outputs": [
    {
     "data": {
      "text/plain": [
       "(50000, 1)"
      ]
     },
     "execution_count": 8,
     "metadata": {},
     "output_type": "execute_result"
    }
   ],
   "source": [
    "# A képekhez tartozó címkék vannak tárolva az y_train_all változóban\n",
    "\n",
    "y_train_all.shape"
   ]
  },
  {
   "cell_type": "code",
   "execution_count": 9,
   "metadata": {},
   "outputs": [
    {
     "data": {
      "text/plain": [
       "1"
      ]
     },
     "execution_count": 9,
     "metadata": {},
     "output_type": "execute_result"
    }
   ],
   "source": [
    "# Így kapjuk meg, hogy a megjelenített képhez valóban egy ló címke tartozik.\n",
    "\n",
    "y_train_all[5][0]"
   ]
  },
  {
   "cell_type": "code",
   "execution_count": 10,
   "metadata": {},
   "outputs": [],
   "source": [
    "# Csak hogy ne számok alapján legyenek a címkék megadva, hanem tudjuk, hogy melyik mit jelöl\n",
    "\n",
    "label_names = ['Plane', 'Car', 'Bird', 'Cat', 'Deer', 'Dog', 'Frog', 'Horse', 'Ship', 'Truck']"
   ]
  },
  {
   "cell_type": "code",
   "execution_count": 11,
   "metadata": {},
   "outputs": [
    {
     "data": {
      "text/plain": [
       "'Car'"
      ]
     },
     "execution_count": 11,
     "metadata": {},
     "output_type": "execute_result"
    }
   ],
   "source": [
    "label_names[y_train_all[5][0]]"
   ]
  },
  {
   "cell_type": "code",
   "execution_count": 12,
   "metadata": {},
   "outputs": [
    {
     "data": {
      "image/png": "[encoded data removed]",
      "text/plain": [
       "<Figure size 432x288 with 1 Axes>"
      ]
     },
     "metadata": {
      "needs_background": "light"
     },
     "output_type": "display_data"
    }
   ],
   "source": [
    "# Vizualizáció matplotlibbel, kiíratva a hozzátartozó címkét\n",
    "\n",
    "plt.imshow(x_train_all[3])\n",
    "plt.xlabel(label_names[y_train_all[3][0]], fontsize = 15)\n",
    "plt.show()"
   ]
  },
  {
   "cell_type": "code",
   "execution_count": 13,
   "metadata": {},
   "outputs": [
    {
     "data": {
      "image/png": "[encoded data removed]",
      "text/plain": [
       "<Figure size 1080x360 with 10 Axes>"
      ]
     },
     "metadata": {},
     "output_type": "display_data"
    }
   ],
   "source": [
    "# Az első 10 kép megjelenítésére egy for loop, a címkékkel\n",
    "\n",
    "plt.figure(figsize=(15,5))\n",
    "\n",
    "for i in range(10):\n",
    "    plt.subplot(1, 10, i+1)\n",
    "    plt.yticks([])\n",
    "    plt.xticks([])\n",
    "    plt.xlabel(label_names[y_train_all[i][0]], fontsize=14)\n",
    "    plt.imshow(x_train_all[i])"
   ]
  },
  {
   "cell_type": "code",
   "execution_count": 14,
   "metadata": {},
   "outputs": [
    {
     "data": {
      "text/plain": [
       "(32, 32, 3)"
      ]
     },
     "execution_count": 14,
     "metadata": {},
     "output_type": "execute_result"
    }
   ],
   "source": [
    "# 32 pixel a szélesség, 32 a magasság, és 3 a channel-ek, vagyis a színek száma (RGB)\n",
    "\n",
    "x_train_all[0].shape"
   ]
  },
  {
   "cell_type": "code",
   "execution_count": 15,
   "metadata": {},
   "outputs": [
    {
     "name": "stdout",
     "output_type": "stream",
     "text": [
      "Kepek = 50000 \t| Szelesseg = 32 \t| Magassag = 32 \t| Channels = 3\n"
     ]
    }
   ],
   "source": [
    "# Hány képet tartalmaz a training halmaz, milyen formátumban?\n",
    "\n",
    "count_images, x, y, c = x_train_all.shape\n",
    "print(f'Kepek = {count_images} \\t| Szelesseg = {x} \\t| Magassag = {y} \\t| Channels = {c}')"
   ]
  },
  {
   "cell_type": "markdown",
   "metadata": {},
   "source": [
    "# Preprocessing, adatok előkészítése"
   ]
  },
  {
   "cell_type": "code",
   "execution_count": 16,
   "metadata": {},
   "outputs": [
    {
     "data": {
      "text/plain": [
       "array([59, 62, 63], dtype=uint8)"
      ]
     },
     "execution_count": 16,
     "metadata": {},
     "output_type": "execute_result"
    }
   ],
   "source": [
    "# Ez például egy pixel RGB értékei \n",
    "x_train_all[0][0][0]"
   ]
  },
  {
   "cell_type": "code",
   "execution_count": 17,
   "metadata": {},
   "outputs": [],
   "source": [
    "# Normalizáljunk!\n",
    "# Az RGB skála maximum értéke 255, így ha ezzel leosztjuk a változókat, az értékek 0 és 1 közé fognak kerülni\n",
    "# Illetve, mivel 255.0-val osztunk, ez át is konvertálja a típust floatra\n",
    "# Az oka ennek az egésznek, hogy gyorsabbak legyenek a számolások (pl. cost function)\n",
    "x_train_all, x_test = x_train_all / 255.0, x_test / 255.0"
   ]
  },
  {
   "cell_type": "code",
   "execution_count": 18,
   "metadata": {},
   "outputs": [
    {
     "data": {
      "text/plain": [
       "array([0.23137255, 0.24313725, 0.24705882])"
      ]
     },
     "execution_count": 18,
     "metadata": {},
     "output_type": "execute_result"
    }
   ],
   "source": [
    "x_train_all[0][0][0]"
   ]
  },
  {
   "cell_type": "code",
   "execution_count": 19,
   "metadata": {},
   "outputs": [],
   "source": [
    "# Képzünk a képekből egy 1 dimenziós array-t, a 3 helyett.\n",
    "x_train_all = x_train_all.reshape(x_train_all.shape[0], 32*32*3)"
   ]
  },
  {
   "cell_type": "code",
   "execution_count": 20,
   "metadata": {},
   "outputs": [
    {
     "data": {
      "text/plain": [
       "(50000, 3072)"
      ]
     },
     "execution_count": 20,
     "metadata": {},
     "output_type": "execute_result"
    }
   ],
   "source": [
    "x_train_all.shape"
   ]
  },
  {
   "cell_type": "code",
   "execution_count": 21,
   "metadata": {},
   "outputs": [],
   "source": [
    "x_test = x_test.reshape(len(x_test), 32*32*3)"
   ]
  },
  {
   "cell_type": "code",
   "execution_count": 22,
   "metadata": {},
   "outputs": [
    {
     "data": {
      "text/plain": [
       "(10000, 3072)"
      ]
     },
     "execution_count": 22,
     "metadata": {},
     "output_type": "execute_result"
    }
   ],
   "source": [
    "x_test.shape"
   ]
  },
  {
   "cell_type": "markdown",
   "metadata": {},
   "source": [
    "## Validation dataset készítése\n",
    "\n",
    "#### Erre azért van szükség, hogy a teszt adatokat a végén majd valóban csak a legjobb modell kapja meg, addig ezen a validation dataseten hajtjuk végre a szükséges finomításokat"
   ]
  },
  {
   "cell_type": "code",
   "execution_count": 23,
   "metadata": {},
   "outputs": [
    {
     "data": {
      "text/plain": [
       "(10000, 3072)"
      ]
     },
     "execution_count": 23,
     "metadata": {},
     "output_type": "execute_result"
    }
   ],
   "source": [
    "x_val = x_train_all[:10000]\n",
    "y_val = y_train_all[:10000]\n",
    "x_val.shape"
   ]
  },
  {
   "cell_type": "code",
   "execution_count": 24,
   "metadata": {},
   "outputs": [
    {
     "data": {
      "text/plain": [
       "(40000, 1)"
      ]
     },
     "execution_count": 24,
     "metadata": {},
     "output_type": "execute_result"
    }
   ],
   "source": [
    "x_train = x_train_all[10000:]\n",
    "y_train = y_train_all[10000:]\n",
    "y_train.shape"
   ]
  },
  {
   "cell_type": "code",
   "execution_count": 25,
   "metadata": {},
   "outputs": [],
   "source": [
    "# Ha gyorsabb feldolgozás miatt 40000-nél kisebb adat kellene, erre létrehozok egy xs datasetet.\n",
    "# Tensorboardban is gyorsabban tudunk vele vizualizálni.\n",
    "\n",
    "x_train_xs = x_train[:1000]\n",
    "y_train_xs = y_train[:1000]"
   ]
  },
  {
   "cell_type": "markdown",
   "metadata": {},
   "source": [
    " ## A NN modellek definiálása\n",
    " \n",
    " #### Két lépésből áll: \n",
    " #### 1. Elkészítjük a modellt, milyen rétegekből álljon, activation függvényeket meghatározzuk stb.\n",
    " #### 2. Compile: Megadjuk, hogy a tensorflow milyen módszerrel optimalizálja majd a training során, a költségfüggvény típusát definiáljuk stb."
   ]
  },
  {
   "cell_type": "code",
   "execution_count": 36,
   "metadata": {},
   "outputs": [],
   "source": [
    "# Ebben a modellben az input layeren kívül még 4 layer található. 3 Hiddel layer és 1 Output layer.\n",
    "# A units paraméter jelöli, hogy hány \"neuron\" található az adott rétegben.\n",
    "# Az első definiált hidden layerben meg kell adni az inputok számát\n",
    "# Ez jelen esetben a 32*32*3, azaz 3072.\n",
    "# Rengeteg fajta activation függvényt lehet használni, én most a relu-t használtam ehhez a feladathoz.\n",
    "# Az output layerben használt softmax függvény képes valószínűségekké alakítani az outputokat\n",
    "\n",
    "model_1 = Sequential([\n",
    "    Dense(units = 128, input_dim = 3072, activation = 'relu', name='m1_hidden1'),\n",
    "    Dense(units = 64, activation='relu', name='m1_hidden2'),\n",
    "    Dense(16, activation = 'relu', name='m1_hidden3'),\n",
    "    Dense(10, activation='softmax', name='m1_output')\n",
    "])"
   ]
  },
  {
   "cell_type": "code",
   "execution_count": 37,
   "metadata": {},
   "outputs": [
    {
     "data": {
      "text/plain": [
       "tensorflow.python.keras.engine.sequential.Sequential"
      ]
     },
     "execution_count": 37,
     "metadata": {},
     "output_type": "execute_result"
    }
   ],
   "source": [
    "type(model_1)"
   ]
  },
  {
   "cell_type": "code",
   "execution_count": 38,
   "metadata": {},
   "outputs": [],
   "source": [
    "# categorical cross entropy költségfüggvény, logaritmikus (ilyen esetekben használható, mikor az outputok valószínűségek)\n",
    "# és Adam optimizer-t használunk (népszerű, kicsi memóriaigény, gyorsabb számítások)\n",
    "model_1.compile(optimizer='adam', loss='sparse_categorical_crossentropy', metrics = ['accuracy'])"
   ]
  },
  {
   "cell_type": "code",
   "execution_count": 29,
   "metadata": {},
   "outputs": [
    {
     "name": "stdout",
     "output_type": "stream",
     "text": [
      "Model: \"sequential\"\n",
      "_________________________________________________________________\n",
      "Layer (type)                 Output Shape              Param #   \n",
      "=================================================================\n",
      "m1_hidden1 (Dense)           (None, 128)               393344    \n",
      "_________________________________________________________________\n",
      "m1_hidden2 (Dense)           (None, 64)                8256      \n",
      "_________________________________________________________________\n",
      "m1_hidden3 (Dense)           (None, 16)                1040      \n",
      "_________________________________________________________________\n",
      "m1_output (Dense)            (None, 10)                170       \n",
      "=================================================================\n",
      "Total params: 402,810\n",
      "Trainable params: 402,810\n",
      "Non-trainable params: 0\n",
      "_________________________________________________________________\n"
     ]
    }
   ],
   "source": [
    "model_1.summary()"
   ]
  },
  {
   "cell_type": "code",
   "execution_count": 30,
   "metadata": {},
   "outputs": [
    {
     "data": {
      "text/plain": [
       "402810"
      ]
     },
     "execution_count": 30,
     "metadata": {},
     "output_type": "execute_result"
    }
   ],
   "source": [
    "# Így jön ki a Total params:\n",
    "\n",
    "# nem csak a connection-ök vannak a neuronok között, hanem a neuronoknak a bias, amely miatt az actiavtion function eltolódhat\n",
    "# mondhatjuk, hogy a neuron valójában megegyszik magávan az aktuális actiavtion functionnel\n",
    "# a tanulás folyamán az activation function változhat (pl. ellaposodhat stb.), ez jelenti a sűlyok változását\n",
    "# a tanulás során ezeket az egyes activation function-öket változtatja meg a neurális háló (pl. meredekebb lesz, eltolja)\n",
    "\n",
    "# pl. első rétegben(input): 32*32*3 és az 1. hidden layerben 128 neuron,\n",
    "# plusz ehhez jön az egyes neuronok bias paramétere: 128\n",
    "\n",
    "\n",
    "32*32*3*128 + 128 + (128*64 + 64) + (64*16 + 16) + (16*10 + 10)"
   ]
  },
  {
   "cell_type": "markdown",
   "metadata": {},
   "source": [
    "## Tensorboard beállítása (vizualizáció miatt)"
   ]
  },
  {
   "cell_type": "code",
   "execution_count": 31,
   "metadata": {},
   "outputs": [],
   "source": [
    "log_dir = \"C:\\\\Users\\\\36307\\\\Documents\\\\notebooks\\\\NeuralNetML\\\\tensorboard_logs\"\n",
    "#tensorboard_callback = tf.keras.callbacks.TensorBoard(log_dir=log_dir, histogram_freq=1)"
   ]
  },
  {
   "cell_type": "code",
   "execution_count": 32,
   "metadata": {},
   "outputs": [],
   "source": [
    "# ez a metódus létrehoz egy mappát a log_dir változóban megadott helyre\n",
    "# ebben a mappában fogja a tensorboard a logokat raktározni, amikből felépíti a grafikont\n",
    "\n",
    "\n",
    "def get_tensorboard(model_name):\n",
    "\n",
    "    folder_name = f'{model_name} at {strftime(\"%H %M\")}'\n",
    "    dir_paths = os.path.join(log_dir, folder_name)\n",
    "\n",
    "    try:\n",
    "        os.makedirs(dir_paths)\n",
    "    except OSError as err:\n",
    "        print(err.strerror)\n",
    "    else:\n",
    "        print('Successfully created directory')\n",
    "\n",
    "    return TensorBoard(log_dir=dir_paths)"
   ]
  },
  {
   "cell_type": "markdown",
   "metadata": {},
   "source": [
    "## Modell illesztése az adatokra"
   ]
  },
  {
   "cell_type": "code",
   "execution_count": 39,
   "metadata": {},
   "outputs": [
    {
     "name": "stdout",
     "output_type": "stream",
     "text": [
      "Successfully created directory\n",
      "Train on 1000 samples, validate on 10000 samples\n",
      "Epoch 1/20\n",
      "1000/1000 [==============================] - 1s 682us/sample - loss: 2.3653 - accuracy: 0.1030 - val_loss: 2.3159 - val_accuracy: 0.1351\n",
      "Epoch 2/20\n",
      "WARNING:tensorflow:Method (on_train_batch_end) is slow compared to the batch update (0.113687). Check your callbacks.\n",
      "1000/1000 [==============================] - 0s 317us/sample - loss: 2.3045 - accuracy: 0.1430 - val_loss: 2.3236 - val_accuracy: 0.1026\n",
      "Epoch 3/20\n",
      "1000/1000 [==============================] - 0s 203us/sample - loss: 2.3184 - accuracy: 0.1140 - val_loss: 2.3012 - val_accuracy: 0.1150\n",
      "Epoch 4/20\n",
      "1000/1000 [==============================] - 0s 205us/sample - loss: 2.3002 - accuracy: 0.1210 - val_loss: 2.2990 - val_accuracy: 0.1033\n",
      "Epoch 5/20\n",
      "1000/1000 [==============================] - 0s 188us/sample - loss: 2.2945 - accuracy: 0.1110 - val_loss: 2.2933 - val_accuracy: 0.1085\n",
      "Epoch 6/20\n",
      "1000/1000 [==============================] - 0s 195us/sample - loss: 2.2876 - accuracy: 0.1150 - val_loss: 2.2947 - val_accuracy: 0.1316\n",
      "Epoch 7/20\n",
      "1000/1000 [==============================] - 0s 193us/sample - loss: 2.2904 - accuracy: 0.1560 - val_loss: 2.2929 - val_accuracy: 0.1314\n",
      "Epoch 8/20\n",
      "1000/1000 [==============================] - 0s 197us/sample - loss: 2.2876 - accuracy: 0.1670 - val_loss: 2.2762 - val_accuracy: 0.1443\n",
      "Epoch 9/20\n",
      "1000/1000 [==============================] - 0s 196us/sample - loss: 2.2652 - accuracy: 0.1700 - val_loss: 2.3110 - val_accuracy: 0.1218\n",
      "Epoch 10/20\n",
      "1000/1000 [==============================] - 0s 195us/sample - loss: 2.2990 - accuracy: 0.1300 - val_loss: 2.2763 - val_accuracy: 0.1472\n",
      "Epoch 11/20\n",
      "1000/1000 [==============================] - 0s 192us/sample - loss: 2.2648 - accuracy: 0.1870 - val_loss: 2.2837 - val_accuracy: 0.1443\n",
      "Epoch 12/20\n",
      "1000/1000 [==============================] - 0s 189us/sample - loss: 2.2747 - accuracy: 0.1780 - val_loss: 2.2803 - val_accuracy: 0.1473\n",
      "Epoch 13/20\n",
      "1000/1000 [==============================] - 0s 209us/sample - loss: 2.2699 - accuracy: 0.1790 - val_loss: 2.2720 - val_accuracy: 0.1473\n",
      "Epoch 14/20\n",
      "1000/1000 [==============================] - 0s 197us/sample - loss: 2.2569 - accuracy: 0.1850 - val_loss: 2.2822 - val_accuracy: 0.1375\n",
      "Epoch 15/20\n",
      "1000/1000 [==============================] - 0s 203us/sample - loss: 2.2675 - accuracy: 0.1560 - val_loss: 2.2767 - val_accuracy: 0.1415\n",
      "Epoch 16/20\n",
      "1000/1000 [==============================] - 0s 206us/sample - loss: 2.2601 - accuracy: 0.1640 - val_loss: 2.2710 - val_accuracy: 0.1478\n",
      "Epoch 17/20\n",
      "1000/1000 [==============================] - 0s 193us/sample - loss: 2.2537 - accuracy: 0.1850 - val_loss: 2.2748 - val_accuracy: 0.1475\n",
      "Epoch 18/20\n",
      "1000/1000 [==============================] - 0s 205us/sample - loss: 2.2598 - accuracy: 0.1790 - val_loss: 2.2735 - val_accuracy: 0.1475\n",
      "Epoch 19/20\n",
      "1000/1000 [==============================] - 0s 228us/sample - loss: 2.2574 - accuracy: 0.1810 - val_loss: 2.2691 - val_accuracy: 0.1487\n",
      "Epoch 20/20\n",
      "1000/1000 [==============================] - 0s 208us/sample - loss: 2.2491 - accuracy: 0.1850 - val_loss: 2.2719 - val_accuracy: 0.1460\n"
     ]
    },
    {
     "data": {
      "text/plain": [
       "<tensorflow.python.keras.callbacks.History at 0x20a52f24f48>"
      ]
     },
     "execution_count": 39,
     "metadata": {},
     "output_type": "execute_result"
    }
   ],
   "source": [
    "# egy epoch, amikor a teljes dataset egyszer átmegy a training fázison\n",
    "# a batch, amikor felszabdaljuk a datasetet részekre, és egy iteráció során\n",
    "# egy ilyen batchen fut le a modell\n",
    "# így nyilván több iteráció kell, hogy valójában végigmenjen a modell az egész adathalmazon\n",
    "# a képlet:  Iterációk száma = Training minták száma / Batch méret\n",
    "#FONTOS: Hogyha újra akarunk futtatni egy modell illesztést, akkor\n",
    "# onnan fog folytatódni, ahol abbahagyta az utolsó futásnál, tehát ha teljesen\n",
    "# az elejéről akarjuk trainelni a modellt, akkor újra kell definiálni és futtatni a compile-t is\n",
    "\n",
    "\n",
    "samples_per_batch = 1000\n",
    "nr_epochs = 50\n",
    "model_1.fit(x_train_xs, y_train_xs, \n",
    "            batch_size=samples_per_batch, \n",
    "            epochs=nr_epochs,\n",
    "            validation_data = (x_val, y_val),\n",
    "            callbacks = [get_tensorboard('Model 1')])"
   ]
  },
  {
   "cell_type": "markdown",
   "metadata": {},
   "source": [
    "## Most lehet indítani a Tensorboard-ot:\n",
    "\n",
    "#### conda promptban kell a következő parancsot kiadni:\n",
    "\n",
    "#### tensorboard --logdir=IDEKELLAZÚTVONAL A MAPPÁHOZ, AMI A log_dir-BEN VAN\n",
    "#### pl.: tensorboard --logdir=C:\\Users\\36307\\Documents\\notebooks\\NeuralNetML\\tensorboard_logs\n",
    "#### Ezután böngészőbe bemásoljátok a http://localhost.... címet, amit kaptok\n",
    "\n",
    "#### Látni fogtok a felületen grafikonokat, amik mutatják, hogy a tanítás során hogyan alakult a modell pontossága és a költségfüggvény"
   ]
  },
  {
   "cell_type": "markdown",
   "metadata": {},
   "source": [
    "# Modell fejlesztése (overfitting miatt)\n",
    "\n",
    "#### Dropout technika: Random figyelmen kívül hagy neuronokat és ezáltal ennek a neuronnak a csatlakozásait is a training során a layerekben, így megelőzi az overfittinget\n",
    "\n",
    "#### Több layer elé is lehetne rakni dropout layert, a nagyobb biztonság miatt"
   ]
  },
  {
   "cell_type": "markdown",
   "metadata": {},
   "source": [
    "## 2. Modell egy dropout layerrel\n",
    "\n",
    "#### Ezt is a nagy training adatra illesztettem itt, pár perc a futásideje, de nyugodtan át lehet írni az _xs datasetekre tesztelés céljából"
   ]
  },
  {
   "cell_type": "code",
   "execution_count": 55,
   "metadata": {},
   "outputs": [],
   "source": [
    "model_2 = Sequential()\n",
    "model_2.add(Dropout(0.2, seed=42, input_shape=(3072,)))\n",
    "model_2.add(Dense(128, activation='relu', name='m2_hidden1'))\n",
    "model_2.add(Dense(64, activation='relu', name='m2_hidden2'))\n",
    "model_2.add(Dense(15, activation='relu', name='m2_hidden3'))\n",
    "model_2.add(Dense(10, activation='softmax', name='m2_output'))\n",
    "\n",
    "model_2.compile(optimizer='adam', \n",
    "                loss='sparse_categorical_crossentropy', \n",
    "                metrics=['accuracy'])"
   ]
  },
  {
   "cell_type": "code",
   "execution_count": 56,
   "metadata": {},
   "outputs": [
    {
     "name": "stdout",
     "output_type": "stream",
     "text": [
      "Successfully created directory\n",
      "Train on 40000 samples, validate on 10000 samples\n",
      "Epoch 1/120\n",
      "40000/40000 [==============================] - 2s 53us/sample - loss: 2.2447 - accuracy: 0.1752 - val_loss: 2.1687 - val_accuracy: 0.2169\n",
      "Epoch 2/120\n",
      "40000/40000 [==============================] - 2s 40us/sample - loss: 2.1262 - accuracy: 0.2253 - val_loss: 2.0742 - val_accuracy: 0.2476\n",
      "Epoch 3/120\n",
      "40000/40000 [==============================] - 2s 41us/sample - loss: 2.0397 - accuracy: 0.2677 - val_loss: 1.9809 - val_accuracy: 0.2997\n",
      "Epoch 4/120\n",
      "40000/40000 [==============================] - 2s 41us/sample - loss: 1.9546 - accuracy: 0.3019 - val_loss: 1.8953 - val_accuracy: 0.3158\n",
      "Epoch 5/120\n",
      "40000/40000 [==============================] - 2s 41us/sample - loss: 1.8869 - accuracy: 0.3177 - val_loss: 1.8389 - val_accuracy: 0.3350\n",
      "Epoch 6/120\n",
      "40000/40000 [==============================] - 2s 41us/sample - loss: 1.8475 - accuracy: 0.3298 - val_loss: 1.8072 - val_accuracy: 0.3416\n",
      "Epoch 7/120\n",
      "40000/40000 [==============================] - 2s 41us/sample - loss: 1.8223 - accuracy: 0.3374 - val_loss: 1.7900 - val_accuracy: 0.3510\n",
      "Epoch 8/120\n",
      "40000/40000 [==============================] - 2s 41us/sample - loss: 1.7894 - accuracy: 0.3493 - val_loss: 1.7657 - val_accuracy: 0.3547\n",
      "Epoch 9/120\n",
      "40000/40000 [==============================] - 2s 41us/sample - loss: 1.7597 - accuracy: 0.3632 - val_loss: 1.7312 - val_accuracy: 0.3728\n",
      "Epoch 10/120\n",
      "40000/40000 [==============================] - 2s 44us/sample - loss: 1.7374 - accuracy: 0.3719 - val_loss: 1.7203 - val_accuracy: 0.3785\n",
      "Epoch 11/120\n",
      "40000/40000 [==============================] - 2s 61us/sample - loss: 1.7156 - accuracy: 0.3841 - val_loss: 1.6956 - val_accuracy: 0.3851\n",
      "Epoch 12/120\n",
      "40000/40000 [==============================] - 2s 62us/sample - loss: 1.7067 - accuracy: 0.3849 - val_loss: 1.6782 - val_accuracy: 0.3932\n",
      "Epoch 13/120\n",
      "40000/40000 [==============================] - 2s 59us/sample - loss: 1.6843 - accuracy: 0.3937 - val_loss: 1.6835 - val_accuracy: 0.3933\n",
      "Epoch 14/120\n",
      "40000/40000 [==============================] - 2s 59us/sample - loss: 1.6725 - accuracy: 0.3983 - val_loss: 1.6412 - val_accuracy: 0.4086\n",
      "Epoch 15/120\n",
      "40000/40000 [==============================] - 2s 58us/sample - loss: 1.6531 - accuracy: 0.4087 - val_loss: 1.6367 - val_accuracy: 0.4066\n",
      "Epoch 16/120\n",
      "40000/40000 [==============================] - 2s 58us/sample - loss: 1.6551 - accuracy: 0.4081 - val_loss: 1.6303 - val_accuracy: 0.4109\n",
      "Epoch 17/120\n",
      "40000/40000 [==============================] - 2s 58us/sample - loss: 1.6396 - accuracy: 0.4137 - val_loss: 1.6223 - val_accuracy: 0.4167\n",
      "Epoch 18/120\n",
      "40000/40000 [==============================] - 2s 59us/sample - loss: 1.6226 - accuracy: 0.4208 - val_loss: 1.6006 - val_accuracy: 0.4275\n",
      "Epoch 19/120\n",
      "40000/40000 [==============================] - 2s 58us/sample - loss: 1.6093 - accuracy: 0.4258 - val_loss: 1.6183 - val_accuracy: 0.4149\n",
      "Epoch 20/120\n",
      "40000/40000 [==============================] - 2s 58us/sample - loss: 1.6066 - accuracy: 0.4277 - val_loss: 1.5894 - val_accuracy: 0.4276\n",
      "Epoch 21/120\n",
      "40000/40000 [==============================] - 2s 58us/sample - loss: 1.5983 - accuracy: 0.4286 - val_loss: 1.5822 - val_accuracy: 0.4360\n",
      "Epoch 22/120\n",
      "40000/40000 [==============================] - 2s 58us/sample - loss: 1.5937 - accuracy: 0.4308 - val_loss: 1.5674 - val_accuracy: 0.4387\n",
      "Epoch 23/120\n",
      "40000/40000 [==============================] - 2s 58us/sample - loss: 1.5848 - accuracy: 0.4372 - val_loss: 1.5765 - val_accuracy: 0.4348\n",
      "Epoch 24/120\n",
      "40000/40000 [==============================] - 2s 58us/sample - loss: 1.5806 - accuracy: 0.4346 - val_loss: 1.5724 - val_accuracy: 0.4388\n",
      "Epoch 25/120\n",
      "40000/40000 [==============================] - 2s 58us/sample - loss: 1.5753 - accuracy: 0.4389 - val_loss: 1.5752 - val_accuracy: 0.4364\n",
      "Epoch 26/120\n",
      "40000/40000 [==============================] - 2s 58us/sample - loss: 1.5640 - accuracy: 0.4402 - val_loss: 1.5482 - val_accuracy: 0.4460\n",
      "Epoch 27/120\n",
      "40000/40000 [==============================] - 2s 58us/sample - loss: 1.5611 - accuracy: 0.4414 - val_loss: 1.5352 - val_accuracy: 0.4556\n",
      "Epoch 28/120\n",
      "40000/40000 [==============================] - 2s 58us/sample - loss: 1.5493 - accuracy: 0.4461 - val_loss: 1.5323 - val_accuracy: 0.4559\n",
      "Epoch 29/120\n",
      "40000/40000 [==============================] - 2s 58us/sample - loss: 1.5409 - accuracy: 0.4515 - val_loss: 1.5326 - val_accuracy: 0.4531\n",
      "Epoch 30/120\n",
      "40000/40000 [==============================] - 2s 58us/sample - loss: 1.5351 - accuracy: 0.4536 - val_loss: 1.5301 - val_accuracy: 0.4530\n",
      "Epoch 31/120\n",
      "40000/40000 [==============================] - 2s 59us/sample - loss: 1.5332 - accuracy: 0.4514 - val_loss: 1.5300 - val_accuracy: 0.4545\n",
      "Epoch 32/120\n",
      "40000/40000 [==============================] - 2s 58us/sample - loss: 1.5361 - accuracy: 0.4505 - val_loss: 1.5280 - val_accuracy: 0.4535\n",
      "Epoch 33/120\n",
      "40000/40000 [==============================] - 2s 58us/sample - loss: 1.5245 - accuracy: 0.4566 - val_loss: 1.5199 - val_accuracy: 0.4612\n",
      "Epoch 34/120\n",
      "40000/40000 [==============================] - 2s 58us/sample - loss: 1.5187 - accuracy: 0.4593 - val_loss: 1.5101 - val_accuracy: 0.4650\n",
      "Epoch 35/120\n",
      "40000/40000 [==============================] - 2s 58us/sample - loss: 1.5117 - accuracy: 0.4603 - val_loss: 1.5077 - val_accuracy: 0.4613\n",
      "Epoch 36/120\n",
      "40000/40000 [==============================] - 3s 67us/sample - loss: 1.5122 - accuracy: 0.4584 - val_loss: 1.5075 - val_accuracy: 0.4650\n",
      "Epoch 37/120\n",
      "40000/40000 [==============================] - 3s 63us/sample - loss: 1.5061 - accuracy: 0.4612 - val_loss: 1.5126 - val_accuracy: 0.4614\n",
      "Epoch 38/120\n",
      "40000/40000 [==============================] - 2s 61us/sample - loss: 1.5014 - accuracy: 0.4632 - val_loss: 1.4985 - val_accuracy: 0.4646\n",
      "Epoch 39/120\n",
      "40000/40000 [==============================] - 2s 61us/sample - loss: 1.4895 - accuracy: 0.4678 - val_loss: 1.4938 - val_accuracy: 0.4689\n",
      "Epoch 40/120\n",
      "40000/40000 [==============================] - 2s 60us/sample - loss: 1.4881 - accuracy: 0.4687 - val_loss: 1.4885 - val_accuracy: 0.4686\n",
      "Epoch 41/120\n",
      "40000/40000 [==============================] - 2s 59us/sample - loss: 1.4862 - accuracy: 0.4692 - val_loss: 1.4803 - val_accuracy: 0.4724\n",
      "Epoch 42/120\n",
      "40000/40000 [==============================] - 3s 69us/sample - loss: 1.4822 - accuracy: 0.4715 - val_loss: 1.4816 - val_accuracy: 0.4731\n",
      "Epoch 43/120\n",
      "40000/40000 [==============================] - 3s 66us/sample - loss: 1.4747 - accuracy: 0.4718 - val_loss: 1.4790 - val_accuracy: 0.4733\n",
      "Epoch 44/120\n",
      "40000/40000 [==============================] - 3s 63us/sample - loss: 1.4782 - accuracy: 0.4719 - val_loss: 1.4887 - val_accuracy: 0.4673\n",
      "Epoch 45/120\n",
      "40000/40000 [==============================] - 2s 62us/sample - loss: 1.4710 - accuracy: 0.4744 - val_loss: 1.4966 - val_accuracy: 0.4616\n",
      "Epoch 46/120\n",
      "40000/40000 [==============================] - 2s 61us/sample - loss: 1.4713 - accuracy: 0.4723 - val_loss: 1.4773 - val_accuracy: 0.4769\n",
      "Epoch 47/120\n",
      "40000/40000 [==============================] - 2s 58us/sample - loss: 1.4672 - accuracy: 0.4767 - val_loss: 1.4849 - val_accuracy: 0.4718\n",
      "Epoch 48/120\n",
      "40000/40000 [==============================] - 2s 59us/sample - loss: 1.4585 - accuracy: 0.4775 - val_loss: 1.4795 - val_accuracy: 0.4733\n",
      "Epoch 49/120\n",
      "40000/40000 [==============================] - 2s 60us/sample - loss: 1.4623 - accuracy: 0.4749 - val_loss: 1.4660 - val_accuracy: 0.4788\n",
      "Epoch 50/120\n",
      "40000/40000 [==============================] - 3s 64us/sample - loss: 1.4561 - accuracy: 0.4797 - val_loss: 1.4639 - val_accuracy: 0.4810\n",
      "Epoch 51/120\n",
      "40000/40000 [==============================] - 2s 61us/sample - loss: 1.4507 - accuracy: 0.4780 - val_loss: 1.4652 - val_accuracy: 0.4757\n",
      "Epoch 52/120\n",
      "40000/40000 [==============================] - 2s 62us/sample - loss: 1.4483 - accuracy: 0.4828 - val_loss: 1.4608 - val_accuracy: 0.4799\n",
      "Epoch 53/120\n",
      "40000/40000 [==============================] - 2s 61us/sample - loss: 1.4433 - accuracy: 0.4832 - val_loss: 1.4614 - val_accuracy: 0.4763\n",
      "Epoch 54/120\n",
      "40000/40000 [==============================] - 2s 61us/sample - loss: 1.4421 - accuracy: 0.4839 - val_loss: 1.4810 - val_accuracy: 0.4694\n"
     ]
    },
    {
     "name": "stdout",
     "output_type": "stream",
     "text": [
      "Epoch 55/120\n",
      "40000/40000 [==============================] - 2s 59us/sample - loss: 1.4468 - accuracy: 0.4811 - val_loss: 1.4485 - val_accuracy: 0.4841\n",
      "Epoch 56/120\n",
      "40000/40000 [==============================] - 2s 58us/sample - loss: 1.4373 - accuracy: 0.4859 - val_loss: 1.4698 - val_accuracy: 0.4734\n",
      "Epoch 57/120\n",
      "40000/40000 [==============================] - 2s 58us/sample - loss: 1.4364 - accuracy: 0.4868 - val_loss: 1.4788 - val_accuracy: 0.4645\n",
      "Epoch 58/120\n",
      "40000/40000 [==============================] - 2s 57us/sample - loss: 1.4402 - accuracy: 0.4830 - val_loss: 1.4485 - val_accuracy: 0.4820\n",
      "Epoch 59/120\n",
      "40000/40000 [==============================] - 2s 58us/sample - loss: 1.4268 - accuracy: 0.4896 - val_loss: 1.4567 - val_accuracy: 0.4808\n",
      "Epoch 60/120\n",
      "40000/40000 [==============================] - 2s 61us/sample - loss: 1.4297 - accuracy: 0.4879 - val_loss: 1.4723 - val_accuracy: 0.4756\n",
      "Epoch 61/120\n",
      "40000/40000 [==============================] - 2s 60us/sample - loss: 1.4369 - accuracy: 0.4824 - val_loss: 1.4620 - val_accuracy: 0.4748\n",
      "Epoch 62/120\n",
      "40000/40000 [==============================] - 2s 59us/sample - loss: 1.4260 - accuracy: 0.4897 - val_loss: 1.4591 - val_accuracy: 0.4784\n",
      "Epoch 63/120\n",
      "40000/40000 [==============================] - 2s 59us/sample - loss: 1.4245 - accuracy: 0.4905 - val_loss: 1.4447 - val_accuracy: 0.4852\n",
      "Epoch 64/120\n",
      "40000/40000 [==============================] - 2s 59us/sample - loss: 1.4239 - accuracy: 0.4903 - val_loss: 1.4501 - val_accuracy: 0.4854\n",
      "Epoch 65/120\n",
      "40000/40000 [==============================] - 2s 58us/sample - loss: 1.4192 - accuracy: 0.4912 - val_loss: 1.4384 - val_accuracy: 0.4864\n",
      "Epoch 66/120\n",
      "40000/40000 [==============================] - 2s 58us/sample - loss: 1.4166 - accuracy: 0.4903 - val_loss: 1.4422 - val_accuracy: 0.4849\n",
      "Epoch 67/120\n",
      "40000/40000 [==============================] - 2s 58us/sample - loss: 1.4126 - accuracy: 0.4927 - val_loss: 1.4480 - val_accuracy: 0.4837\n",
      "Epoch 68/120\n",
      "40000/40000 [==============================] - 2s 59us/sample - loss: 1.4119 - accuracy: 0.4949 - val_loss: 1.4437 - val_accuracy: 0.4868\n",
      "Epoch 69/120\n",
      "40000/40000 [==============================] - 2s 58us/sample - loss: 1.4104 - accuracy: 0.4949 - val_loss: 1.4457 - val_accuracy: 0.4851\n",
      "Epoch 70/120\n",
      "40000/40000 [==============================] - 2s 59us/sample - loss: 1.4054 - accuracy: 0.4959 - val_loss: 1.4373 - val_accuracy: 0.4856\n",
      "Epoch 71/120\n",
      "40000/40000 [==============================] - 2s 58us/sample - loss: 1.4095 - accuracy: 0.4961 - val_loss: 1.4452 - val_accuracy: 0.4912\n",
      "Epoch 72/120\n",
      "40000/40000 [==============================] - 2s 59us/sample - loss: 1.3993 - accuracy: 0.4979 - val_loss: 1.4466 - val_accuracy: 0.4805\n",
      "Epoch 73/120\n",
      "40000/40000 [==============================] - 2s 58us/sample - loss: 1.4143 - accuracy: 0.4954 - val_loss: 1.4621 - val_accuracy: 0.4779\n",
      "Epoch 74/120\n",
      "40000/40000 [==============================] - 2s 60us/sample - loss: 1.4029 - accuracy: 0.4973 - val_loss: 1.4352 - val_accuracy: 0.4876\n",
      "Epoch 75/120\n",
      "40000/40000 [==============================] - 2s 59us/sample - loss: 1.3950 - accuracy: 0.4999 - val_loss: 1.4407 - val_accuracy: 0.4873\n",
      "Epoch 76/120\n",
      "40000/40000 [==============================] - 2s 59us/sample - loss: 1.4004 - accuracy: 0.4992 - val_loss: 1.4456 - val_accuracy: 0.4871\n",
      "Epoch 77/120\n",
      "40000/40000 [==============================] - 2s 59us/sample - loss: 1.4024 - accuracy: 0.4978 - val_loss: 1.4364 - val_accuracy: 0.4888\n",
      "Epoch 78/120\n",
      "40000/40000 [==============================] - 2s 61us/sample - loss: 1.3909 - accuracy: 0.5011 - val_loss: 1.4480 - val_accuracy: 0.4804\n",
      "Epoch 79/120\n",
      "40000/40000 [==============================] - 2s 59us/sample - loss: 1.3873 - accuracy: 0.5021 - val_loss: 1.4261 - val_accuracy: 0.4897\n",
      "Epoch 80/120\n",
      "40000/40000 [==============================] - 2s 59us/sample - loss: 1.3868 - accuracy: 0.5032 - val_loss: 1.4371 - val_accuracy: 0.4883\n",
      "Epoch 81/120\n",
      "40000/40000 [==============================] - 2s 59us/sample - loss: 1.3879 - accuracy: 0.5029 - val_loss: 1.4342 - val_accuracy: 0.4878\n",
      "Epoch 82/120\n",
      "40000/40000 [==============================] - 2s 58us/sample - loss: 1.3867 - accuracy: 0.5046 - val_loss: 1.4388 - val_accuracy: 0.4838\n",
      "Epoch 83/120\n",
      "40000/40000 [==============================] - 2s 59us/sample - loss: 1.3919 - accuracy: 0.5014 - val_loss: 1.4466 - val_accuracy: 0.4880\n",
      "Epoch 84/120\n",
      "40000/40000 [==============================] - 2s 60us/sample - loss: 1.3873 - accuracy: 0.5012 - val_loss: 1.4449 - val_accuracy: 0.4858\n",
      "Epoch 85/120\n",
      "40000/40000 [==============================] - 2s 60us/sample - loss: 1.3923 - accuracy: 0.4981 - val_loss: 1.4402 - val_accuracy: 0.4864\n",
      "Epoch 86/120\n",
      "40000/40000 [==============================] - 2s 60us/sample - loss: 1.3828 - accuracy: 0.5039 - val_loss: 1.4533 - val_accuracy: 0.4863\n",
      "Epoch 87/120\n",
      "40000/40000 [==============================] - 2s 59us/sample - loss: 1.3820 - accuracy: 0.5031 - val_loss: 1.4313 - val_accuracy: 0.4887\n",
      "Epoch 88/120\n",
      "40000/40000 [==============================] - 3s 64us/sample - loss: 1.3779 - accuracy: 0.5081 - val_loss: 1.4419 - val_accuracy: 0.4870\n",
      "Epoch 89/120\n",
      "40000/40000 [==============================] - 3s 65us/sample - loss: 1.3776 - accuracy: 0.5063 - val_loss: 1.4249 - val_accuracy: 0.4933\n",
      "Epoch 90/120\n",
      "40000/40000 [==============================] - 2s 60us/sample - loss: 1.3651 - accuracy: 0.5076 - val_loss: 1.4314 - val_accuracy: 0.4889\n",
      "Epoch 91/120\n",
      "40000/40000 [==============================] - 2s 61us/sample - loss: 1.3792 - accuracy: 0.5028 - val_loss: 1.4399 - val_accuracy: 0.4836\n",
      "Epoch 92/120\n",
      "40000/40000 [==============================] - 2s 61us/sample - loss: 1.3681 - accuracy: 0.5074 - val_loss: 1.4337 - val_accuracy: 0.4879\n",
      "Epoch 93/120\n",
      "40000/40000 [==============================] - 3s 63us/sample - loss: 1.3776 - accuracy: 0.5065 - val_loss: 1.4176 - val_accuracy: 0.4961\n",
      "Epoch 94/120\n",
      "40000/40000 [==============================] - 2s 62us/sample - loss: 1.3741 - accuracy: 0.5052 - val_loss: 1.4342 - val_accuracy: 0.4903\n",
      "Epoch 95/120\n",
      "40000/40000 [==============================] - 3s 64us/sample - loss: 1.3788 - accuracy: 0.5059 - val_loss: 1.4317 - val_accuracy: 0.4853\n",
      "Epoch 96/120\n",
      "40000/40000 [==============================] - 3s 63us/sample - loss: 1.3683 - accuracy: 0.5103 - val_loss: 1.4320 - val_accuracy: 0.4901\n",
      "Epoch 97/120\n",
      "40000/40000 [==============================] - 2s 60us/sample - loss: 1.3676 - accuracy: 0.5106 - val_loss: 1.4234 - val_accuracy: 0.4917\n",
      "Epoch 98/120\n",
      "40000/40000 [==============================] - 2s 61us/sample - loss: 1.3627 - accuracy: 0.5101 - val_loss: 1.4249 - val_accuracy: 0.4916\n",
      "Epoch 99/120\n",
      "40000/40000 [==============================] - 2s 60us/sample - loss: 1.3571 - accuracy: 0.5120 - val_loss: 1.4191 - val_accuracy: 0.4915\n",
      "Epoch 100/120\n",
      "40000/40000 [==============================] - 2s 61us/sample - loss: 1.3705 - accuracy: 0.5095 - val_loss: 1.4403 - val_accuracy: 0.4869\n",
      "Epoch 101/120\n",
      "40000/40000 [==============================] - 2s 62us/sample - loss: 1.3634 - accuracy: 0.5092 - val_loss: 1.4179 - val_accuracy: 0.4945\n",
      "Epoch 102/120\n",
      "40000/40000 [==============================] - 3s 64us/sample - loss: 1.3591 - accuracy: 0.5100 - val_loss: 1.4320 - val_accuracy: 0.4838\n",
      "Epoch 103/120\n",
      "40000/40000 [==============================] - 3s 69us/sample - loss: 1.3584 - accuracy: 0.5131 - val_loss: 1.4193 - val_accuracy: 0.4958\n",
      "Epoch 104/120\n",
      "40000/40000 [==============================] - 3s 64us/sample - loss: 1.3566 - accuracy: 0.5121 - val_loss: 1.4243 - val_accuracy: 0.4923\n",
      "Epoch 105/120\n",
      "40000/40000 [==============================] - 3s 64us/sample - loss: 1.3602 - accuracy: 0.5140 - val_loss: 1.4238 - val_accuracy: 0.4982\n",
      "Epoch 106/120\n",
      "40000/40000 [==============================] - 3s 63us/sample - loss: 1.3526 - accuracy: 0.5143 - val_loss: 1.4206 - val_accuracy: 0.4968\n",
      "Epoch 107/120\n",
      "40000/40000 [==============================] - 2s 61us/sample - loss: 1.3540 - accuracy: 0.5131 - val_loss: 1.4392 - val_accuracy: 0.4855\n",
      "Epoch 108/120\n",
      "40000/40000 [==============================] - 2s 60us/sample - loss: 1.3566 - accuracy: 0.5124 - val_loss: 1.4153 - val_accuracy: 0.4979\n",
      "Epoch 109/120\n",
      "40000/40000 [==============================] - 2s 59us/sample - loss: 1.3507 - accuracy: 0.5163 - val_loss: 1.4191 - val_accuracy: 0.4958\n",
      "Epoch 110/120\n",
      "40000/40000 [==============================] - 2s 60us/sample - loss: 1.3534 - accuracy: 0.5127 - val_loss: 1.4153 - val_accuracy: 0.4957\n",
      "Epoch 111/120\n",
      "40000/40000 [==============================] - 2s 62us/sample - loss: 1.3516 - accuracy: 0.5116 - val_loss: 1.4466 - val_accuracy: 0.4848\n",
      "Epoch 112/120\n",
      "40000/40000 [==============================] - 2s 61us/sample - loss: 1.3471 - accuracy: 0.5173 - val_loss: 1.4107 - val_accuracy: 0.4970\n",
      "Epoch 113/120\n",
      "40000/40000 [==============================] - 2s 59us/sample - loss: 1.3458 - accuracy: 0.5153 - val_loss: 1.4285 - val_accuracy: 0.4939\n",
      "Epoch 114/120\n",
      "40000/40000 [==============================] - 2s 58us/sample - loss: 1.3508 - accuracy: 0.5148 - val_loss: 1.4310 - val_accuracy: 0.4901\n",
      "Epoch 115/120\n",
      "40000/40000 [==============================] - 2s 59us/sample - loss: 1.3531 - accuracy: 0.5109 - val_loss: 1.4210 - val_accuracy: 0.4972\n",
      "Epoch 116/120\n",
      "40000/40000 [==============================] - 2s 59us/sample - loss: 1.3432 - accuracy: 0.5192 - val_loss: 1.4784 - val_accuracy: 0.4803\n",
      "Epoch 117/120\n",
      "40000/40000 [==============================] - 2s 60us/sample - loss: 1.3553 - accuracy: 0.5130 - val_loss: 1.4208 - val_accuracy: 0.4953\n",
      "Epoch 118/120\n",
      "40000/40000 [==============================] - 2s 59us/sample - loss: 1.3417 - accuracy: 0.5172 - val_loss: 1.4211 - val_accuracy: 0.4932\n",
      "Epoch 119/120\n",
      "40000/40000 [==============================] - 2s 58us/sample - loss: 1.3360 - accuracy: 0.5198 - val_loss: 1.4126 - val_accuracy: 0.4943\n",
      "Epoch 120/120\n",
      "40000/40000 [==============================] - 2s 59us/sample - loss: 1.3406 - accuracy: 0.5199 - val_loss: 1.4120 - val_accuracy: 0.5020\n"
     ]
    },
    {
     "data": {
      "text/plain": [
       "<tensorflow.python.keras.callbacks.History at 0x20aad119e08>"
      ]
     },
     "execution_count": 56,
     "metadata": {},
     "output_type": "execute_result"
    }
   ],
   "source": [
    "# ez így nálam 4 percig futott\n",
    "samples_per_batch = 1000\n",
    "nr_epochs = 120\n",
    "model_2.fit(x_train, y_train, batch_size=samples_per_batch, \n",
    "            epochs=nr_epochs, validation_data=(x_val, y_val),\n",
    "            callbacks = [get_tensorboard('Model 2')])"
   ]
  },
  {
   "attachments": {
    "k%C3%A9p.png": {
     "image/png": "[encoded data removed]"
    }
   },
   "cell_type": "markdown",
   "metadata": {},
   "source": [
    "## Tensorboard kép:\n",
    "\n",
    "![k%C3%A9p.png](attachment:k%C3%A9p.png)"
   ]
  },
  {
   "cell_type": "markdown",
   "metadata": {},
   "source": [
    "## 3. modell (két dropout layerrel)\n",
    "#### Ezt már a rendes nagy training set-re illesztettem"
   ]
  },
  {
   "cell_type": "code",
   "execution_count": 44,
   "metadata": {},
   "outputs": [],
   "source": [
    "model_3 = Sequential()\n",
    "model_3.add(Dropout(0.2, seed=42, input_shape=(3072,)))\n",
    "model_3.add(Dense(128, activation='relu', name='m3_hidden1'))\n",
    "model_3.add(Dropout(0.25, seed=42))\n",
    "model_3.add(Dense(64, activation='relu', name='m3_hidden2'))\n",
    "model_3.add(Dense(15, activation='relu', name='m3_hidden3'))\n",
    "model_3.add(Dense(10, activation='softmax', name='m3_output'))\n",
    "\n",
    "model_3.compile(optimizer='adam', \n",
    "                loss='sparse_categorical_crossentropy', \n",
    "                metrics=['accuracy'])"
   ]
  },
  {
   "cell_type": "code",
   "execution_count": 45,
   "metadata": {},
   "outputs": [
    {
     "name": "stdout",
     "output_type": "stream",
     "text": [
      "Successfully created directory\n",
      "Train on 40000 samples, validate on 10000 samples\n",
      "Epoch 1/70\n",
      "40000/40000 [==============================] - 2s 57us/sample - loss: 2.2491 - accuracy: 0.1411 - val_loss: 2.1171 - val_accuracy: 0.1792\n",
      "Epoch 2/70\n",
      "40000/40000 [==============================] - 2s 44us/sample - loss: 2.0959 - accuracy: 0.1928 - val_loss: 2.0281 - val_accuracy: 0.2216\n",
      "Epoch 3/70\n",
      "40000/40000 [==============================] - 2s 43us/sample - loss: 2.0275 - accuracy: 0.2375 - val_loss: 1.9539 - val_accuracy: 0.2901\n",
      "Epoch 4/70\n",
      "40000/40000 [==============================] - 2s 43us/sample - loss: 1.9665 - accuracy: 0.2738 - val_loss: 1.8903 - val_accuracy: 0.3155\n",
      "Epoch 5/70\n",
      "40000/40000 [==============================] - 2s 43us/sample - loss: 1.9156 - accuracy: 0.2998 - val_loss: 1.8362 - val_accuracy: 0.3450\n",
      "Epoch 6/70\n",
      "40000/40000 [==============================] - 2s 43us/sample - loss: 1.8675 - accuracy: 0.3232 - val_loss: 1.7979 - val_accuracy: 0.3557\n",
      "Epoch 7/70\n",
      "40000/40000 [==============================] - 2s 43us/sample - loss: 1.8389 - accuracy: 0.3334 - val_loss: 1.7622 - val_accuracy: 0.3649\n",
      "Epoch 8/70\n",
      "40000/40000 [==============================] - 2s 43us/sample - loss: 1.8113 - accuracy: 0.3448 - val_loss: 1.7332 - val_accuracy: 0.3795\n",
      "Epoch 9/70\n",
      "40000/40000 [==============================] - 2s 43us/sample - loss: 1.7930 - accuracy: 0.3518 - val_loss: 1.7138 - val_accuracy: 0.3915\n",
      "Epoch 10/70\n",
      "40000/40000 [==============================] - 2s 47us/sample - loss: 1.7754 - accuracy: 0.3602 - val_loss: 1.6899 - val_accuracy: 0.3999\n",
      "Epoch 11/70\n",
      "40000/40000 [==============================] - 2s 62us/sample - loss: 1.7577 - accuracy: 0.3678 - val_loss: 1.6730 - val_accuracy: 0.3970\n",
      "Epoch 12/70\n",
      "40000/40000 [==============================] - 2s 60us/sample - loss: 1.7501 - accuracy: 0.3691 - val_loss: 1.6643 - val_accuracy: 0.4068\n",
      "Epoch 13/70\n",
      "40000/40000 [==============================] - 2s 60us/sample - loss: 1.7427 - accuracy: 0.3717 - val_loss: 1.6684 - val_accuracy: 0.4112\n",
      "Epoch 14/70\n",
      "40000/40000 [==============================] - 2s 60us/sample - loss: 1.7258 - accuracy: 0.3788 - val_loss: 1.6357 - val_accuracy: 0.4154\n",
      "Epoch 15/70\n",
      "40000/40000 [==============================] - 2s 60us/sample - loss: 1.7189 - accuracy: 0.3808 - val_loss: 1.6332 - val_accuracy: 0.4163\n",
      "Epoch 16/70\n",
      "40000/40000 [==============================] - 2s 59us/sample - loss: 1.7080 - accuracy: 0.3876 - val_loss: 1.6267 - val_accuracy: 0.4193\n",
      "Epoch 17/70\n",
      "40000/40000 [==============================] - 2s 59us/sample - loss: 1.7006 - accuracy: 0.3895 - val_loss: 1.6056 - val_accuracy: 0.4252\n",
      "Epoch 18/70\n",
      "40000/40000 [==============================] - 2s 59us/sample - loss: 1.6921 - accuracy: 0.3920 - val_loss: 1.6119 - val_accuracy: 0.4266\n",
      "Epoch 19/70\n",
      "40000/40000 [==============================] - 2s 59us/sample - loss: 1.6855 - accuracy: 0.3929 - val_loss: 1.6066 - val_accuracy: 0.4237\n",
      "Epoch 20/70\n",
      "40000/40000 [==============================] - 2s 60us/sample - loss: 1.6814 - accuracy: 0.3975 - val_loss: 1.6047 - val_accuracy: 0.4321\n",
      "Epoch 21/70\n",
      "40000/40000 [==============================] - 2s 60us/sample - loss: 1.6713 - accuracy: 0.3992 - val_loss: 1.6040 - val_accuracy: 0.4342\n",
      "Epoch 22/70\n",
      "40000/40000 [==============================] - 2s 59us/sample - loss: 1.6740 - accuracy: 0.3956 - val_loss: 1.5826 - val_accuracy: 0.4345\n",
      "Epoch 23/70\n",
      "40000/40000 [==============================] - 2s 60us/sample - loss: 1.6679 - accuracy: 0.4008 - val_loss: 1.5797 - val_accuracy: 0.4363\n",
      "Epoch 24/70\n",
      "40000/40000 [==============================] - 2s 60us/sample - loss: 1.6620 - accuracy: 0.4019 - val_loss: 1.5829 - val_accuracy: 0.4383\n",
      "Epoch 25/70\n",
      "40000/40000 [==============================] - 2s 59us/sample - loss: 1.6537 - accuracy: 0.4063 - val_loss: 1.5716 - val_accuracy: 0.4359\n",
      "Epoch 26/70\n",
      "40000/40000 [==============================] - 2s 59us/sample - loss: 1.6486 - accuracy: 0.4066 - val_loss: 1.5682 - val_accuracy: 0.4403\n",
      "Epoch 27/70\n",
      "40000/40000 [==============================] - 2s 60us/sample - loss: 1.6516 - accuracy: 0.4047 - val_loss: 1.5728 - val_accuracy: 0.4395\n",
      "Epoch 28/70\n",
      "40000/40000 [==============================] - 2s 60us/sample - loss: 1.6378 - accuracy: 0.4110 - val_loss: 1.5565 - val_accuracy: 0.4458\n",
      "Epoch 29/70\n",
      "40000/40000 [==============================] - 2s 60us/sample - loss: 1.6311 - accuracy: 0.4148 - val_loss: 1.5565 - val_accuracy: 0.4451\n",
      "Epoch 30/70\n",
      "40000/40000 [==============================] - 2s 59us/sample - loss: 1.6311 - accuracy: 0.4107 - val_loss: 1.5574 - val_accuracy: 0.4428\n",
      "Epoch 31/70\n",
      "40000/40000 [==============================] - 2s 59us/sample - loss: 1.6240 - accuracy: 0.4135 - val_loss: 1.5457 - val_accuracy: 0.4427\n",
      "Epoch 32/70\n",
      "40000/40000 [==============================] - 2s 59us/sample - loss: 1.6241 - accuracy: 0.4154 - val_loss: 1.5398 - val_accuracy: 0.4519\n",
      "Epoch 33/70\n",
      "40000/40000 [==============================] - 2s 59us/sample - loss: 1.6204 - accuracy: 0.4172 - val_loss: 1.5333 - val_accuracy: 0.4585\n",
      "Epoch 34/70\n",
      "40000/40000 [==============================] - 2s 59us/sample - loss: 1.6143 - accuracy: 0.4177 - val_loss: 1.5306 - val_accuracy: 0.4564\n",
      "Epoch 35/70\n",
      "40000/40000 [==============================] - 2s 62us/sample - loss: 1.6165 - accuracy: 0.4195 - val_loss: 1.5309 - val_accuracy: 0.4559\n",
      "Epoch 36/70\n",
      "40000/40000 [==============================] - 3s 63us/sample - loss: 1.6132 - accuracy: 0.4220 - val_loss: 1.5277 - val_accuracy: 0.4654\n",
      "Epoch 37/70\n",
      "40000/40000 [==============================] - 2s 61us/sample - loss: 1.6125 - accuracy: 0.4221 - val_loss: 1.5559 - val_accuracy: 0.4507\n",
      "Epoch 38/70\n",
      "40000/40000 [==============================] - 3s 63us/sample - loss: 1.6031 - accuracy: 0.4207 - val_loss: 1.5143 - val_accuracy: 0.4654\n",
      "Epoch 39/70\n",
      "40000/40000 [==============================] - 2s 62us/sample - loss: 1.6068 - accuracy: 0.4232 - val_loss: 1.5180 - val_accuracy: 0.4621\n",
      "Epoch 40/70\n",
      "40000/40000 [==============================] - 2s 62us/sample - loss: 1.6021 - accuracy: 0.4220 - val_loss: 1.5350 - val_accuracy: 0.4539\n",
      "Epoch 41/70\n",
      "40000/40000 [==============================] - 2s 61us/sample - loss: 1.5954 - accuracy: 0.4245 - val_loss: 1.5180 - val_accuracy: 0.4581\n",
      "Epoch 42/70\n",
      "40000/40000 [==============================] - 2s 61us/sample - loss: 1.5917 - accuracy: 0.4261 - val_loss: 1.5057 - val_accuracy: 0.4664\n",
      "Epoch 43/70\n",
      "40000/40000 [==============================] - 2s 60us/sample - loss: 1.5853 - accuracy: 0.4304 - val_loss: 1.5045 - val_accuracy: 0.4698\n",
      "Epoch 44/70\n",
      "40000/40000 [==============================] - 2s 61us/sample - loss: 1.5827 - accuracy: 0.4296 - val_loss: 1.5081 - val_accuracy: 0.4628\n",
      "Epoch 45/70\n",
      "40000/40000 [==============================] - 2s 61us/sample - loss: 1.5822 - accuracy: 0.4288 - val_loss: 1.5249 - val_accuracy: 0.4625\n",
      "Epoch 46/70\n",
      "40000/40000 [==============================] - 2s 60us/sample - loss: 1.5871 - accuracy: 0.4271 - val_loss: 1.5022 - val_accuracy: 0.4675\n",
      "Epoch 47/70\n",
      "40000/40000 [==============================] - 2s 59us/sample - loss: 1.5821 - accuracy: 0.4301 - val_loss: 1.5111 - val_accuracy: 0.4683\n",
      "Epoch 48/70\n",
      "40000/40000 [==============================] - 2s 61us/sample - loss: 1.5746 - accuracy: 0.4342 - val_loss: 1.5093 - val_accuracy: 0.4631\n",
      "Epoch 49/70\n",
      "40000/40000 [==============================] - 2s 59us/sample - loss: 1.5788 - accuracy: 0.4336 - val_loss: 1.5039 - val_accuracy: 0.4641\n",
      "Epoch 50/70\n",
      "40000/40000 [==============================] - 2s 59us/sample - loss: 1.5719 - accuracy: 0.4323 - val_loss: 1.5069 - val_accuracy: 0.4686\n",
      "Epoch 51/70\n",
      "40000/40000 [==============================] - 2s 59us/sample - loss: 1.5675 - accuracy: 0.4358 - val_loss: 1.4936 - val_accuracy: 0.4697\n",
      "Epoch 52/70\n",
      "40000/40000 [==============================] - 2s 59us/sample - loss: 1.5656 - accuracy: 0.4366 - val_loss: 1.4981 - val_accuracy: 0.4659\n",
      "Epoch 53/70\n",
      "40000/40000 [==============================] - 2s 60us/sample - loss: 1.5664 - accuracy: 0.4322 - val_loss: 1.4870 - val_accuracy: 0.4720\n",
      "Epoch 54/70\n",
      "40000/40000 [==============================] - 2s 60us/sample - loss: 1.5657 - accuracy: 0.4371 - val_loss: 1.4880 - val_accuracy: 0.4677\n",
      "Epoch 55/70\n",
      "40000/40000 [==============================] - 2s 60us/sample - loss: 1.5687 - accuracy: 0.4350 - val_loss: 1.4896 - val_accuracy: 0.4746\n",
      "Epoch 56/70\n",
      "40000/40000 [==============================] - 2s 60us/sample - loss: 1.5542 - accuracy: 0.4387 - val_loss: 1.4890 - val_accuracy: 0.4735\n",
      "Epoch 57/70\n",
      "40000/40000 [==============================] - 2s 59us/sample - loss: 1.5602 - accuracy: 0.4405 - val_loss: 1.4972 - val_accuracy: 0.4691\n",
      "Epoch 58/70\n",
      "40000/40000 [==============================] - 2s 59us/sample - loss: 1.5534 - accuracy: 0.4399 - val_loss: 1.4856 - val_accuracy: 0.4739\n",
      "Epoch 59/70\n",
      "40000/40000 [==============================] - 2s 60us/sample - loss: 1.5457 - accuracy: 0.4415 - val_loss: 1.4952 - val_accuracy: 0.4702\n",
      "Epoch 60/70\n",
      "40000/40000 [==============================] - 2s 59us/sample - loss: 1.5531 - accuracy: 0.4425 - val_loss: 1.5022 - val_accuracy: 0.4731\n",
      "Epoch 61/70\n",
      "40000/40000 [==============================] - 2s 61us/sample - loss: 1.5500 - accuracy: 0.4409 - val_loss: 1.4916 - val_accuracy: 0.4733\n",
      "Epoch 62/70\n",
      "40000/40000 [==============================] - 2s 59us/sample - loss: 1.5514 - accuracy: 0.4388 - val_loss: 1.4861 - val_accuracy: 0.4717\n",
      "Epoch 63/70\n",
      "40000/40000 [==============================] - 2s 60us/sample - loss: 1.5473 - accuracy: 0.4426 - val_loss: 1.4810 - val_accuracy: 0.4822\n",
      "Epoch 64/70\n",
      "40000/40000 [==============================] - 2s 59us/sample - loss: 1.5407 - accuracy: 0.4460 - val_loss: 1.4755 - val_accuracy: 0.4732\n",
      "Epoch 65/70\n",
      "40000/40000 [==============================] - 2s 59us/sample - loss: 1.5458 - accuracy: 0.4448 - val_loss: 1.4875 - val_accuracy: 0.4732\n",
      "Epoch 66/70\n",
      "40000/40000 [==============================] - 2s 60us/sample - loss: 1.5434 - accuracy: 0.4418 - val_loss: 1.4811 - val_accuracy: 0.4747\n",
      "Epoch 67/70\n",
      "40000/40000 [==============================] - 2s 60us/sample - loss: 1.5447 - accuracy: 0.4401 - val_loss: 1.4846 - val_accuracy: 0.4735\n",
      "Epoch 68/70\n",
      "40000/40000 [==============================] - 2s 61us/sample - loss: 1.5379 - accuracy: 0.4453 - val_loss: 1.4800 - val_accuracy: 0.4738\n",
      "Epoch 69/70\n",
      "40000/40000 [==============================] - 2s 61us/sample - loss: 1.5407 - accuracy: 0.4437 - val_loss: 1.4684 - val_accuracy: 0.4811\n",
      "Epoch 70/70\n",
      "40000/40000 [==============================] - 2s 60us/sample - loss: 1.5311 - accuracy: 0.4497 - val_loss: 1.4737 - val_accuracy: 0.4774\n"
     ]
    },
    {
     "data": {
      "text/plain": [
       "<tensorflow.python.keras.callbacks.History at 0x20aacb2fc48>"
      ]
     },
     "execution_count": 45,
     "metadata": {},
     "output_type": "execute_result"
    }
   ],
   "source": [
    "samples_per_batch = 1000\n",
    "nr_epochs = 70\n",
    "model_3.fit(x_train, y_train, batch_size=samples_per_batch, epochs=nr_epochs, \n",
    "            verbose=1, validation_data=(x_val, y_val), callbacks = [get_tensorboard('Model 3')])"
   ]
  },
  {
   "attachments": {
    "k%C3%A9p.png": {
     "image/png": "[encoded data removed]"
    }
   },
   "cell_type": "markdown",
   "metadata": {},
   "source": [
    "## Lescreeneltem a Tensorboardot erről a futásról, látszik, hogy szépen alakult a modell pontossága, illetve a költségfüggvény is csökkent\n",
    "\n",
    "![k%C3%A9p.png](attachment:k%C3%A9p.png)"
   ]
  },
  {
   "cell_type": "markdown",
   "metadata": {},
   "source": [
    "# Prediction"
   ]
  },
  {
   "cell_type": "code",
   "execution_count": 49,
   "metadata": {},
   "outputs": [
    {
     "data": {
      "text/plain": [
       "(3072,)"
      ]
     },
     "execution_count": 49,
     "metadata": {},
     "output_type": "execute_result"
    }
   ],
   "source": [
    "#az első kép a val. datasetből\n",
    "# látszik, hogy 1 dimenziós, hozzá kell adnunk még 1 dimenziót\n",
    "x_val[3].shape"
   ]
  },
  {
   "cell_type": "code",
   "execution_count": 50,
   "metadata": {},
   "outputs": [
    {
     "data": {
      "text/plain": [
       "(1, 3072)"
      ]
     },
     "execution_count": 50,
     "metadata": {},
     "output_type": "execute_result"
    }
   ],
   "source": [
    "test = np.expand_dims(x_val[3], axis = 0)\n",
    "test.shape"
   ]
  },
  {
   "cell_type": "code",
   "execution_count": 57,
   "metadata": {},
   "outputs": [
    {
     "data": {
      "text/plain": [
       "array([[0.05036019, 0.06157459, 0.09461053, 0.04866208, 0.34632766,\n",
       "        0.06394461, 0.25659165, 0.04968238, 0.01881503, 0.00943123]],\n",
       "      dtype=float32)"
      ]
     },
     "execution_count": 57,
     "metadata": {},
     "output_type": "execute_result"
    }
   ],
   "source": [
    "# megkapjuk a különböző kategóriák valószínűségeit\n",
    "model_2.predict(test)"
   ]
  },
  {
   "cell_type": "code",
   "execution_count": 58,
   "metadata": {},
   "outputs": [
    {
     "data": {
      "text/plain": [
       "array([4], dtype=int64)"
      ]
     },
     "execution_count": 58,
     "metadata": {},
     "output_type": "execute_result"
    }
   ],
   "source": [
    "# Így megkapjuk, hogy melyik osztályhoz tartozik a legnagyobb valószínűség\n",
    "model_2.predict_classes(test)"
   ]
  },
  {
   "cell_type": "code",
   "execution_count": 60,
   "metadata": {},
   "outputs": [
    {
     "data": {
      "text/plain": [
       "array([4], dtype=uint8)"
      ]
     },
     "execution_count": 60,
     "metadata": {},
     "output_type": "execute_result"
    }
   ],
   "source": [
    "# jó a jóslat?\n",
    "# igen\n",
    "y_val[3]"
   ]
  },
  {
   "cell_type": "code",
   "execution_count": 61,
   "metadata": {},
   "outputs": [
    {
     "name": "stdout",
     "output_type": "stream",
     "text": [
      "Actual value: 6 vs. predicted: 6\n",
      "Actual value: 9 vs. predicted: 1\n",
      "Actual value: 9 vs. predicted: 9\n",
      "Actual value: 4 vs. predicted: 4\n",
      "Actual value: 1 vs. predicted: 8\n",
      "Actual value: 1 vs. predicted: 9\n",
      "Actual value: 2 vs. predicted: 2\n",
      "Actual value: 7 vs. predicted: 7\n",
      "Actual value: 8 vs. predicted: 8\n",
      "Actual value: 3 vs. predicted: 1\n"
     ]
    }
   ],
   "source": [
    "for number in range(10):\n",
    "    test_img = np.expand_dims(x_val[number], axis=0)\n",
    "    predicted_val = model_2.predict_classes(test_img)[0]\n",
    "    print(f'Actual value: {y_val[number][0]} vs. predicted: {predicted_val}')"
   ]
  },
  {
   "cell_type": "markdown",
   "metadata": {},
   "source": [
    "# Kiértékelés"
   ]
  },
  {
   "cell_type": "code",
   "execution_count": 62,
   "metadata": {},
   "outputs": [
    {
     "data": {
      "text/plain": [
       "['loss', 'accuracy']"
      ]
     },
     "execution_count": 62,
     "metadata": {},
     "output_type": "execute_result"
    }
   ],
   "source": [
    "model_2.metrics_names"
   ]
  },
  {
   "cell_type": "code",
   "execution_count": 63,
   "metadata": {},
   "outputs": [
    {
     "name": "stdout",
     "output_type": "stream",
     "text": [
      "10000/10000 [==============================] - 1s 73us/sample - loss: 1.4162 - accuracy: 0.4946\n",
      "Test loss is 1.42 and test accuracy is 49.5%\n"
     ]
    }
   ],
   "source": [
    "test_loss, test_accuracy = model_2.evaluate(x_test, y_test)\n",
    "print(f'Test loss is {test_loss:0.3} and test accuracy is {test_accuracy:0.1%}')"
   ]
  },
  {
   "cell_type": "markdown",
   "metadata": {},
   "source": [
    "### Látszik, hogy a teszt adatokra is egészen jó, 49.5% -os pontossággal jósol a 2. modell."
   ]
  },
  {
   "cell_type": "markdown",
   "metadata": {},
   "source": [
    "## Confusion matrix elkészítése a teszt adatokra"
   ]
  },
  {
   "cell_type": "code",
   "execution_count": 64,
   "metadata": {},
   "outputs": [],
   "source": [
    "from sklearn.metrics import confusion_matrix\n",
    "\n",
    "\n",
    "predictions = model_2.predict_classes(x_test)\n",
    "conf_matrix = confusion_matrix(y_true=y_test, y_pred=predictions)"
   ]
  },
  {
   "cell_type": "code",
   "execution_count": 65,
   "metadata": {},
   "outputs": [],
   "source": [
    "nr_rows = conf_matrix.shape[0]\n",
    "nr_cols = conf_matrix.shape[1]"
   ]
  },
  {
   "cell_type": "code",
   "execution_count": 75,
   "metadata": {},
   "outputs": [
    {
     "data": {
      "image/png": "[encoded data removed]",
      "text/plain": [
       "<Figure size 665x665 with 2 Axes>"
      ]
     },
     "metadata": {
      "needs_background": "light"
     },
     "output_type": "display_data"
    }
   ],
   "source": [
    "LABEL_NAMES = ['Plane', 'Car', 'Bird', 'Cat', 'Deer', 'Dog', 'Frog', 'Horse', 'Ship', 'Truck']\n",
    "import itertools\n",
    "\n",
    "\n",
    "plt.figure(figsize=(7,7), dpi=95)\n",
    "plt.imshow(conf_matrix, cmap=plt.cm.Blues)\n",
    "\n",
    "plt.title('Confusion Matrix', fontsize=16)\n",
    "plt.ylabel('Actual Labels', fontsize=12)\n",
    "plt.xlabel('Predicted Labels', fontsize=12)\n",
    "\n",
    "tick_marks = np.arange(10)\n",
    "plt.yticks(tick_marks, LABEL_NAMES)\n",
    "plt.xticks(tick_marks, LABEL_NAMES)\n",
    "\n",
    "plt.colorbar()\n",
    "\n",
    "for i, j in itertools.product(range(nr_rows), range(nr_cols)):\n",
    "    plt.text(j, i, conf_matrix[i, j], horizontalalignment='center',\n",
    "            color='white' if conf_matrix[i, j] > conf_matrix.max()/2 else 'black')\n",
    "    \n",
    "\n",
    "plt.show()"
   ]
  },
  {
   "cell_type": "code",
   "execution_count": 76,
   "metadata": {},
   "outputs": [
    {
     "data": {
      "text/plain": [
       "array([574, 618, 333, 286, 477, 328, 547, 525, 692, 566], dtype=int64)"
      ]
     },
     "execution_count": 76,
     "metadata": {},
     "output_type": "execute_result"
    }
   ],
   "source": [
    "# True positive-ak\n",
    "np.diag(conf_matrix)"
   ]
  },
  {
   "cell_type": "code",
   "execution_count": 77,
   "metadata": {},
   "outputs": [
    {
     "data": {
      "text/plain": [
       "array([0.574, 0.618, 0.333, 0.286, 0.477, 0.328, 0.547, 0.525, 0.692,\n",
       "       0.566])"
      ]
     },
     "execution_count": 77,
     "metadata": {},
     "output_type": "execute_result"
    }
   ],
   "source": [
    "# True pos / True pos+False Neg(sorok)\n",
    "recall = np.diag(conf_matrix) / np.sum(conf_matrix, axis=1)\n",
    "recall"
   ]
  },
  {
   "cell_type": "code",
   "execution_count": 78,
   "metadata": {},
   "outputs": [
    {
     "data": {
      "text/plain": [
       "array([0.55192308, 0.60292683, 0.3592233 , 0.35974843, 0.40804106,\n",
       "       0.46002805, 0.50137489, 0.53626149, 0.55095541, 0.56318408])"
      ]
     },
     "execution_count": 78,
     "metadata": {},
     "output_type": "execute_result"
    }
   ],
   "source": [
    "# True pos / True pos+False Pos(oszlopok)\n",
    "precision = np.diag(conf_matrix) / np.sum(conf_matrix, axis=0)\n",
    "precision"
   ]
  },
  {
   "cell_type": "code",
   "execution_count": 79,
   "metadata": {},
   "outputs": [
    {
     "name": "stdout",
     "output_type": "stream",
     "text": [
      "Model 2 recall: 49.46%\n",
      "Model 2 precision: 48.94%\n",
      "Model 2 f score: 49.20%\n"
     ]
    }
   ],
   "source": [
    "avg_recall = np.mean(recall)\n",
    "print(f'Model 2 recall: {avg_recall:.2%}')\n",
    "\n",
    "avg_precision = np.mean(precision)\n",
    "print(f'Model 2 precision: {avg_precision:.2%}')\n",
    "\n",
    "f1_score = 2 * (avg_precision * avg_recall) / (avg_precision + avg_recall)\n",
    "print(f'Model 2 f score: {f1_score:.2%}')"
   ]
  },
  {
   "cell_type": "markdown",
   "metadata": {},
   "source": [
    "## Nyilván ezeken az értékeken sokat lehetne javítani egy sokkal nagyobb computer visionra kitalált neurális hálóval, vagy még nagyobb teszt adat mennyiséggel, de egy ilyen egyszerű modellnek ez tökéletes eredmény figyelembe véve, hogy 10 kategóriánál eltalálja a felét."
   ]
  },
  {
   "cell_type": "markdown",
   "metadata": {},
   "source": [
    "#### Lakatos Áron"
   ]
  },
  {
   "cell_type": "code",
   "execution_count": null,
   "metadata": {},
   "outputs": [],
   "source": []
  }
 ],
 "metadata": {
  "kernelspec": {
   "display_name": "Python 3",
   "language": "python",
   "name": "python3"
  },
  "language_info": {
   "codemirror_mode": {
    "name": "ipython",
    "version": 3
   },
   "file_extension": ".py",
   "mimetype": "text/x-python",
   "name": "python",
   "nbconvert_exporter": "python",
   "pygments_lexer": "ipython3",
   "version": "3.7.4"
  }
 },
 "nbformat": 4,
 "nbformat_minor": 2
}
